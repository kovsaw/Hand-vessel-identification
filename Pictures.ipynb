{
 "cells": [
  {
   "cell_type": "code",
   "execution_count": 1,
   "metadata": {},
   "outputs": [],
   "source": [
    "import cv2\n",
    "import numpy as np\n",
    "from matplotlib import pyplot as plt\n",
    "import matplotlib.image as mpimg\n",
    "from PIL import Image"
   ]
  },
  {
   "cell_type": "code",
   "execution_count": 2,
   "metadata": {},
   "outputs": [],
   "source": [
    "def hist_1(pic, result):\n",
    "    img  =  cv2 . imread (pic, 0 )\n",
    "\n",
    "    hist,bins = np.histogram(img.flatten(),256,[0,256])\n",
    "\n",
    "    cdf = hist.cumsum()\n",
    "    cdf_normalized = cdf * hist.max()/ cdf.max()\n",
    "\n",
    "    plt.plot(cdf_normalized, color = 'b')\n",
    "    plt.hist(img.flatten(),256,[0,256], color = 'r')\n",
    "    plt.xlim([0,256])\n",
    "    plt.legend(('cdf','histogram'), loc = 'upper left')\n",
    "    \n",
    "    plt.show()\n",
    "    cdf_m = np.ma.masked_equal(cdf,0)\n",
    "    cdf_m = (cdf_m - cdf_m.min())*255/(cdf_m.max()-cdf_m.min())\n",
    "    cdf = np.ma.filled(cdf_m,0).astype('uint8')\n",
    "    img2 = cdf[img]\n",
    "    cv2.imwrite(result,img2)\n",
    "    "
   ]
  },
  {
   "cell_type": "code",
   "execution_count": 3,
   "metadata": {},
   "outputs": [],
   "source": [
    "def rgb_to_gray2(pic, result):\n",
    "    x=Image.open(pic,'r')\n",
    "    x=x.convert('L') #makes it greyscale\n",
    "    y=np.asarray(x.getdata(),dtype=np.float64).reshape((x.size[1],x.size[0]))\n",
    "\n",
    "    y=np.asarray(y,dtype=np.uint8) #if values still in range 0-255! \n",
    "    w=Image.fromarray(y,mode='L')\n",
    "    w.save(result)"
   ]
  },
  {
   "cell_type": "code",
   "execution_count": 4,
   "metadata": {},
   "outputs": [],
   "source": [
    "# выравнивание контрастности и яркости\n",
    "   "
   ]
  },
  {
   "cell_type": "code",
   "execution_count": 5,
   "metadata": {},
   "outputs": [],
   "source": [
    "def contrast2(pic, result):\n",
    "    im = cv2.imread(pic, 0)\n",
    "    cv2.adaptiveThreshold(im, im, 255, cv2.ADAPTIVE_THRESH_MEAN_C, \n",
    "                                  cv2.THRESH_BINARY, blockSize=31, param1=15)\n",
    "    cv2.ShowImage('image', im)\n",
    "    cv2.WaitKey(0)"
   ]
  },
  {
   "cell_type": "code",
   "execution_count": 8,
   "metadata": {},
   "outputs": [],
   "source": [
    "from skimage import data, img_as_float\n",
    "from skimage import exposure\n",
    "def contrast3(pic,result):\n",
    "    # Adaptive Equalization\n",
    "    img = cv2.imread(pic)\n",
    "    img_adapteq = exposure.equalize_adapthist(img, clip_limit=0.03)\n",
    "    plt.show()\n"
   ]
  },
  {
   "cell_type": "code",
   "execution_count": 9,
   "metadata": {},
   "outputs": [
    {
     "name": "stderr",
     "output_type": "stream",
     "text": [
      "c:\\pip\\lib\\site-packages\\skimage\\util\\dtype.py:122: UserWarning: Possible precision loss when converting from float64 to uint16\n",
      "  .format(dtypeobj_in, dtypeobj_out))\n"
     ]
    }
   ],
   "source": [
    "contrast3('C:\\\\Users\\\\User\\\\VEINS\\\\pic_background_empty.png', 'C:\\\\Users\\\\User\\\\VEINS\\\\result_pic_background_black_contrast.png')"
   ]
  },
  {
   "cell_type": "code",
   "execution_count": null,
   "metadata": {},
   "outputs": [],
   "source": [
    "contrast2('C:\\\\Users\\\\User\\\\VEINS\\\\pic_background_black.png', 'C:\\\\Users\\\\User\\\\VEINS\\\\result_pic_background_black_contrast.png')"
   ]
  },
  {
   "cell_type": "code",
   "execution_count": 2,
   "metadata": {},
   "outputs": [],
   "source": [
    "# работает со всеми, но с black_background лучше всего\n",
    "def adaptive_thresholding(pic, result):\n",
    "    img = cv2.imread(pic,0)\n",
    "    img = cv2.medianBlur(img,5)\n",
    "    ret,th1 = cv2.threshold(img,127,255,cv2.THRESH_BINARY)\n",
    "    th2 = cv2.adaptiveThreshold(img,255,cv2.ADAPTIVE_THRESH_MEAN_C,\\\n",
    "                cv2.THRESH_BINARY,11,2)\n",
    "    th3 = cv2.adaptiveThreshold(img,255,cv2.ADAPTIVE_THRESH_GAUSSIAN_C,\\\n",
    "                cv2.THRESH_BINARY,11,2)\n",
    "    titles = ['Original Image', 'Global Thresholding (v = 127)',\n",
    "                'Adaptive Mean Thresholding', 'Adaptive Gaussian Thresholding']\n",
    "    images = [img, th1, th2, th3]\n",
    "    for i in range(4):\n",
    "        plt.subplot(2,2,i+1),plt.imshow(images[i],'gray')\n",
    "        plt.title(titles[i])\n",
    "        plt.xticks([]),plt.yticks([])\n",
    "    plt.show()"
   ]
  },
  {
   "cell_type": "code",
   "execution_count": 4,
   "metadata": {},
   "outputs": [
    {
     "data": {
      "image/png": "[encoded data removed]",
      "text/plain": [
       "<Figure size 432x288 with 4 Axes>"
      ]
     },
     "metadata": {},
     "output_type": "display_data"
    }
   ],
   "source": [
    "adaptive_thresholding('C:\\\\Users\\\\User\\\\VEINS\\\\pic_background_black.png', 'C:\\\\Users\\\\User\\\\VEINS\\\\result_pic_background_black_adaptive.png')"
   ]
  },
  {
   "cell_type": "code",
   "execution_count": 5,
   "metadata": {},
   "outputs": [],
   "source": [
    "#  Не работает\n",
    "def adaptive_thresholding2(pic, result):\n",
    "    im = cv2.imread(pic, cv2.IMREAD_GRAYSCALE)\n",
    "    cv2.adaptiveThreshold(im, im, 255, cv2.ADAPTIVE_THRESH_MEAN_C, \n",
    "                                      cv2.THRESH_BINARY, 31, 15)\n",
    "    cv2.ShowImage('image', im)"
   ]
  },
  {
   "cell_type": "code",
   "execution_count": 6,
   "metadata": {},
   "outputs": [],
   "source": [
    "# adaptive_thresholding2('C:\\\\Users\\\\User\\\\VEINS\\\\pic_background_black.png', 'C:\\\\Users\\\\User\\\\VEINS\\\\result_pic_background_black_adaptive.png')"
   ]
  },
  {
   "cell_type": "code",
   "execution_count": 7,
   "metadata": {},
   "outputs": [],
   "source": [
    "# Remove noise from threshold image opencv python\n",
    "# работает с white and empty\n",
    "# выделяет вены\n",
    "\n",
    "def adaptiveThreshold3(pic, result):\n",
    "    img_file = pic\n",
    "    img = cv2.imread(img_file, cv2.IMREAD_COLOR)\n",
    "    img = cv2.blur(img, (5, 5))\n",
    "\n",
    "    hsv = cv2.cvtColor(img, cv2.COLOR_BGR2HSV)\n",
    "    h, s, v = cv2.split(hsv)\n",
    "\n",
    "    thresh0 = cv2.adaptiveThreshold(s, 255, cv2.ADAPTIVE_THRESH_GAUSSIAN_C, cv2.THRESH_BINARY_INV, 11, 2)\n",
    "    thresh1 = cv2.adaptiveThreshold(v, 255, cv2.ADAPTIVE_THRESH_GAUSSIAN_C, cv2.THRESH_BINARY_INV, 11, 2)\n",
    "    thresh2 = cv2.adaptiveThreshold(v, 255, cv2.ADAPTIVE_THRESH_GAUSSIAN_C, cv2.THRESH_BINARY_INV, 11, 2)\n",
    "    thresh = cv2.bitwise_or(thresh0, thresh1)\n",
    "\n",
    "    cv2.imshow('Image-thresh0', thresh0)\n",
    "    cv2.waitKey(0)\n",
    "    cv2.imshow('Image-thresh1', thresh1)\n",
    "    cv2.waitKey(0)\n",
    "    cv2.imshow('Image-thresh2', thresh2)\n",
    "    cv2.waitKey(0)\n",
    "adaptiveThreshold3('C:\\\\Users\\\\User\\\\VEINS\\\\pic_background_black.png', 'C:\\\\Users\\\\User\\\\VEINS\\\\result_pic_background_black_adaptive.png')"
   ]
  },
  {
   "cell_type": "code",
   "execution_count": null,
   "metadata": {},
   "outputs": [],
   "source": [
    "# rgb_to_gray('C:\\\\Users\\\\User\\\\VEINS\\\\pic1.png', 'C:\\\\Users\\\\User\\\\VEINS\\\\pic1_rgb.png')"
   ]
  },
  {
   "cell_type": "code",
   "execution_count": null,
   "metadata": {},
   "outputs": [],
   "source": [
    "# rgb_to_gray2('C:\\\\Users\\\\User\\\\VEINS\\\\pic1.png', 'C:\\\\Users\\\\User\\\\VEINS\\\\pic1_rgb2.png')"
   ]
  },
  {
   "cell_type": "code",
   "execution_count": null,
   "metadata": {},
   "outputs": [],
   "source": [
    "# hist_1('C:\\\\Users\\\\User\\\\VEINS\\\\pic_background_black.png', 'C:\\\\Users\\\\User\\\\VEINS\\\\result_pic_background_black_first_hist1.png')"
   ]
  },
  {
   "cell_type": "code",
   "execution_count": null,
   "metadata": {},
   "outputs": [],
   "source": [
    "# не очень\n",
    "# только с белым и пустым фонами\n",
    "def adaptive_thresholding4(pic, result):\n",
    "    img = cv2.imread(pic)\n",
    "    grayscaled = cv2.cvtColor(img,cv2.COLOR_BGR2GRAY)\n",
    "    th = cv2.adaptiveThreshold(grayscaled, 255, cv2.ADAPTIVE_THRESH_GAUSSIAN_C, cv2.THRESH_BINARY, 115, 1)\n",
    "    cv2.imshow('original',img)\n",
    "    cv2.imshow('threshold',th)\n",
    "    cv2.waitKey(0)\n",
    "    cv2.destroyAllWindows()\n",
    "adaptive_thresholding4('C:\\\\Users\\\\User\\\\VEINS\\\\pic_background_empty.png', 'C:\\\\Users\\\\User\\\\VEINS\\\\result_pic_background_black_adaptive.png')"
   ]
  },
  {
   "cell_type": "code",
   "execution_count": null,
   "metadata": {},
   "outputs": [],
   "source": []
  },
  {
   "cell_type": "code",
   "execution_count": null,
   "metadata": {},
   "outputs": [],
   "source": []
  },
  {
   "cell_type": "code",
   "execution_count": null,
   "metadata": {},
   "outputs": [],
   "source": []
  }
 ],
 "metadata": {
  "kernelspec": {
   "display_name": "Python 3",
   "language": "python",
   "name": "python3"
  },
  "language_info": {
   "codemirror_mode": {
    "name": "ipython",
    "version": 3
   },
   "file_extension": ".py",
   "mimetype": "text/x-python",
   "name": "python",
   "nbconvert_exporter": "python",
   "pygments_lexer": "ipython3",
   "version": "3.6.4"
  }
 },
 "nbformat": 4,
 "nbformat_minor": 2
}

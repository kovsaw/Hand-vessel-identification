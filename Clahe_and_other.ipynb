{
 "cells": [
  {
   "cell_type": "code",
   "execution_count": 8,
   "metadata": {},
   "outputs": [],
   "source": [
    "import cv2\n",
    "import numpy as np\n",
    "from matplotlib import pyplot as plt\n",
    "import matplotlib.image as mpimg\n",
    "from PIL import Image"
   ]
  },
  {
   "cell_type": "code",
   "execution_count": 9,
   "metadata": {},
   "outputs": [],
   "source": [
    "def first(pic, result):\n",
    "    img = cv2.imread(pic, 0)\n",
    "    hist, bins = np.histogram(img.flatten(), 256, [0, 256])\n",
    "\n",
    "    cdf = hist.cumsum()\n",
    "    cdf_normalized = cdf * hist.max() / cdf.max()\n",
    "\n",
    "    cdf_m = np.ma.masked_equal(cdf, 0)\n",
    "    cdf_m = (cdf_m - cdf_m.min()) * 255 / (cdf_m.max() - cdf_m.min())\n",
    "    cdf = np.ma.filled(cdf_m, 0).astype('uint8')\n",
    "    img2 = cdf[img]\n",
    "    \n",
    "    cv2.imwrite(result, img2)"
   ]
  },
  {
   "cell_type": "code",
   "execution_count": 10,
   "metadata": {},
   "outputs": [],
   "source": [
    "def second(pic, result):\n",
    "    img = cv2.imread(pic, 0)\n",
    "    clahe = cv2.createCLAHE(clipLimit=.0, tileGridSize=(2, 2))\n",
    "    cl1 = clahe.apply(img)\n",
    "    cv2.imwrite(result, cl1)"
   ]
  },
  {
   "cell_type": "code",
   "execution_count": 11,
   "metadata": {},
   "outputs": [],
   "source": [
    "def three(pic, result):\n",
    "    img = cv2.imread(pic, 0)\n",
    "    equ = cv2.equalizeHist(img)\n",
    "    res = np.hstack((img, equ))  # stacking images side-by-side\n",
    "    cv2.imwrite(result, res)"
   ]
  },
  {
   "cell_type": "code",
   "execution_count": 12,
   "metadata": {},
   "outputs": [],
   "source": [
    "def method_clahe(pic, result):\n",
    "    def multi_clahe(img, num):\n",
    "        for i in range(num):\n",
    "            img = cv2.createCLAHE(clipLimit=2.0, tileGridSize=(4+i*2,4+i*2)).apply(img)\n",
    "        return img\n",
    "\n",
    "    img = cv2.imread(pic)\n",
    "\n",
    "    gray = cv2.cvtColor(img, cv2.COLOR_BGR2GRAY)\n",
    "\n",
    "    final = multi_clahe(gray, 2)\n",
    "\n",
    "    cv2.imwrite(result,final)"
   ]
  },
  {
   "cell_type": "code",
   "execution_count": 13,
   "metadata": {},
   "outputs": [],
   "source": [
    "######### \n",
    "#  Преобразование изображения RGB -> Gray\n",
    "#########\n",
    "def rgb_to_gray(pic, result):\n",
    "\n",
    "    def rgb2gray(rgb):\n",
    "        return np.dot(rgb[...,:3], [0.299, 0.587, 0.114])\n",
    "\n",
    "    img = mpimg.imread(pic)     \n",
    "    gray = rgb2gray(img)    \n",
    "    plt.imshow(gray, cmap = plt.get_cmap('gray'))\n",
    "#     cv2.imwrite(result, picture) # эта фишка не работает\n",
    "    plt.savefig(result)\n",
    "    plt.show()"
   ]
  },
  {
   "cell_type": "code",
   "execution_count": 15,
   "metadata": {},
   "outputs": [],
   "source": [
    " first('C:\\\\Users\\\\User\\\\VEINS\\\\pic_background_black.png', 'C:\\\\Users\\\\User\\\\VEINS\\\\result_pic_background_black_first.jpg')\n",
    " second('C:\\\\Users\\\\User\\\\VEINS\\\\pic_background_black.png', 'C:\\\\Users\\\\User\\\\VEINS\\\\result_pic_background_black_second.jpg')\n",
    " three('C:\\\\Users\\\\User\\\\VEINS\\\\pic_background_black.png', 'C:\\\\Users\\\\User\\\\VEINS\\\\result_pic_background_black_three.jpg')\n",
    " method_clahe('C:\\\\Users\\\\User\\\\VEINS\\\\pic_background_empty.png', 'C:\\\\Users\\\\User\\\\VEINS\\\\result_pic_background_empty_clahe.jpg')\n",
    " method_clahe('C:\\\\Users\\\\User\\\\VEINS\\\\pic_background_black.png', 'C:\\\\Users\\\\User\\\\VEINS\\\\result_pic_background_black_clahe.jpg')\n",
    " method_clahe('C:\\\\Users\\\\User\\\\VEINS\\\\pic_background_white.png', 'C:\\\\Users\\\\User\\\\VEINS\\\\result_pic_background_white_clahe.jpg')\n"
   ]
  },
  {
   "cell_type": "code",
   "execution_count": null,
   "metadata": {},
   "outputs": [],
   "source": []
  }
 ],
 "metadata": {
  "kernelspec": {
   "display_name": "Python 3",
   "language": "python",
   "name": "python3"
  },
  "language_info": {
   "codemirror_mode": {
    "name": "ipython",
    "version": 3
   },
   "file_extension": ".py",
   "mimetype": "text/x-python",
   "name": "python",
   "nbconvert_exporter": "python",
   "pygments_lexer": "ipython3",
   "version": "3.6.4"
  }
 },
 "nbformat": 4,
 "nbformat_minor": 2
}
